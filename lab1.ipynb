{
  "cells": [
    {
      "cell_type": "markdown",
      "source": [
        "Title - Loading dataset into keras/pytorch, creating training and testing splits."
      ],
      "metadata": {
        "id": "yoi1NUkBX-2r"
      },
      "id": "yoi1NUkBX-2r"
    },
    {
      "cell_type": "markdown",
      "source": [
        "Loading datasets into Keras and PyTorch and creating training and testing splits are crucial steps in building and training machine learning models. These steps involve preparing the data in a format suitable for the deep learning frameworks, partitioning it into training and testing subsets, and ensuring that the model learns effectively from the data while avoiding overfitting.\n",
        "\n",
        "In both Keras and PyTorch, datasets are typically represented as tensors or arrays. Tensors are multi-dimensional arrays that can efficiently store and manipulate data, making them suitable for deep learning frameworks. The loading process depends on the type of dataset, whether it's images, text, or numerical data.\n",
        "\n",
        "For image datasets, such as MNIST or CIFAR-10, Keras and PyTorch provide convenient functions to download and load the data. These functions handle data preprocessing, normalization, and other transformations required for training deep learning models on images. In Keras, the dataset is often returned as NumPy arrays, while in PyTorch, it is usually converted to `torch.Tensor` objects.\n",
        "\n",
        "For text datasets, such as sentiment analysis or language translation datasets, preprocessing involves tokenization, padding, and converting the text into numerical representations. Both Keras and PyTorch provide tools for handling text data, including tokenizers and data loaders.\n",
        "\n",
        "For numerical datasets, such as time series or tabular data, loading typically involves reading data from CSV files or other formats. Keras and PyTorch provide utilities to convert the data into tensors, allowing for efficient processing by the deep learning models.\n",
        "\n",
        "Once the data is loaded, it's essential to split it into training and testing subsets. The training set is used to train the model, while the testing set is used to evaluate the model's performance on unseen data. Splitting the data helps in assessing the model's generalization capabilities.\n",
        "\n",
        "In Keras, you can use the `train_test_split` function from `sklearn.model_selection` to split the data into training and testing sets. This function shuffles the data and divides it into specified proportions. The splitting can be based on the number of samples or the fraction of the dataset.\n",
        "\n",
        "In PyTorch, the data splitting can be done using PyTorch's `DataLoader` and `Subset` classes. First, the dataset is loaded, and then it is divided into training and testing subsets using the `Subset` class. The `DataLoader` is then used to create data iterators for both training and testing subsets.\n",
        "\n",
        "After loading and splitting the data, it is essential to preprocess and normalize the data for training. Data normalization is crucial for deep learning models to learn effectively and converge faster during training. Common preprocessing steps include scaling the data to a specific range (e.g., [0, 1]) or standardizing the data to have zero mean and unit variance.\n",
        "\n",
        "Once the data is prepared, it is ready to be used for training and evaluation. In both Keras and PyTorch, the models are defined and compiled before training. The training process involves feeding batches of data to the model and adjusting its weights based on the gradients computed during backpropagation.\n",
        "\n",
        "In summary, loading datasets into Keras and PyTorch involves preparing the data in the appropriate format (tensors or arrays) and partitioning it into training and testing subsets. Proper data preprocessing and normalization are essential for successful training and model performance. The training and testing splits ensure that the model generalizes well to unseen data and avoids overfitting to the training set. Through these steps, deep learning models can be trained effectively on a wide range of datasets, enabling them to learn patterns and make accurate predictions on real-world problems."
      ],
      "metadata": {
        "id": "Y5Yq8N_SX-yQ"
      },
      "id": "Y5Yq8N_SX-yQ"
    },
    {
      "cell_type": "code",
      "execution_count": null,
      "id": "8eca94ef",
      "metadata": {
        "id": "8eca94ef",
        "outputId": "5a6dee43-5bb6-40b9-ebf2-0a5a12c52596"
      },
      "outputs": [
        {
          "name": "stdout",
          "output_type": "stream",
          "text": [
            "Downloading data from https://storage.googleapis.com/tensorflow/tf-keras-datasets/mnist.npz\n",
            "11490434/11490434 [==============================] - 2s 0us/step\n"
          ]
        }
      ],
      "source": [
        "import tensorflow as tf\n",
        "\n",
        "(train_images, train_labels), (test_images, test_labels) = tf.keras.datasets.mnist.load_data()"
      ]
    },
    {
      "cell_type": "code",
      "execution_count": null,
      "id": "5e262ae3",
      "metadata": {
        "id": "5e262ae3",
        "outputId": "812c5cfa-62ac-495a-969e-df5cec195b8d"
      },
      "outputs": [
        {
          "data": {
            "text/plain": [
              "60000"
            ]
          },
          "execution_count": 5,
          "metadata": {},
          "output_type": "execute_result"
        }
      ],
      "source": [
        "len(train_images)"
      ]
    },
    {
      "cell_type": "code",
      "execution_count": null,
      "id": "0ac80f0a",
      "metadata": {
        "id": "0ac80f0a",
        "outputId": "25ecd53a-cac9-4e48-98bc-b4212bda301d"
      },
      "outputs": [
        {
          "data": {
            "text/plain": [
              "60000"
            ]
          },
          "execution_count": 6,
          "metadata": {},
          "output_type": "execute_result"
        }
      ],
      "source": [
        "len(train_labels)"
      ]
    },
    {
      "cell_type": "code",
      "execution_count": null,
      "id": "ad129650",
      "metadata": {
        "id": "ad129650",
        "outputId": "51958a52-b8dd-49a0-c473-2d7c06de1f3c"
      },
      "outputs": [
        {
          "data": {
            "text/plain": [
              "10000"
            ]
          },
          "execution_count": 7,
          "metadata": {},
          "output_type": "execute_result"
        }
      ],
      "source": [
        "len(test_images)"
      ]
    },
    {
      "cell_type": "code",
      "execution_count": null,
      "id": "c1944516",
      "metadata": {
        "id": "c1944516",
        "outputId": "70c4e445-7366-49f7-d566-779808bdba2b"
      },
      "outputs": [
        {
          "data": {
            "text/plain": [
              "10000"
            ]
          },
          "execution_count": 8,
          "metadata": {},
          "output_type": "execute_result"
        }
      ],
      "source": [
        "len(test_labels)"
      ]
    },
    {
      "cell_type": "code",
      "execution_count": null,
      "id": "cae322ac",
      "metadata": {
        "id": "cae322ac",
        "outputId": "3eaf8ae3-d6b3-4644-c704-82da5d303fb5"
      },
      "outputs": [
        {
          "data": {
            "text/plain": [
              "array([[  0,   0,   0,   0,   0,   0,   0,   0,   0,   0,   0,   0,   0,\n",
              "          0,   0,   0,   0,   0,   0,   0,   0,   0,   0,   0,   0,   0,\n",
              "          0,   0],\n",
              "       [  0,   0,   0,   0,   0,   0,   0,   0,   0,   0,   0,   0,   0,\n",
              "          0,   0,   0,   0,   0,   0,   0,   0,   0,   0,   0,   0,   0,\n",
              "          0,   0],\n",
              "       [  0,   0,   0,   0,   0,   0,   0,   0,   0,   0,   0,   0,   0,\n",
              "          0,   0,   0,   0,   0,   0,   0,   0,   0,   0,   0,   0,   0,\n",
              "          0,   0],\n",
              "       [  0,   0,   0,   0,   0,   0,   0,   0,   0,   0,   0,   0,   0,\n",
              "          0,   0,   0,   0,   0,   0,   0,   0,   0,   0,   0,   0,   0,\n",
              "          0,   0],\n",
              "       [  0,   0,   0,   0,   0,   0,   0,   0,   0,   0,   0,   0,   0,\n",
              "          0,   0,   0,   0,   0,   0,   0,   0,   0,   0,   0,   0,   0,\n",
              "          0,   0],\n",
              "       [  0,   0,   0,   0,   0,   0,   0,   0,   0,   0,   0,   0,   3,\n",
              "         18,  18,  18, 126, 136, 175,  26, 166, 255, 247, 127,   0,   0,\n",
              "          0,   0],\n",
              "       [  0,   0,   0,   0,   0,   0,   0,   0,  30,  36,  94, 154, 170,\n",
              "        253, 253, 253, 253, 253, 225, 172, 253, 242, 195,  64,   0,   0,\n",
              "          0,   0],\n",
              "       [  0,   0,   0,   0,   0,   0,   0,  49, 238, 253, 253, 253, 253,\n",
              "        253, 253, 253, 253, 251,  93,  82,  82,  56,  39,   0,   0,   0,\n",
              "          0,   0],\n",
              "       [  0,   0,   0,   0,   0,   0,   0,  18, 219, 253, 253, 253, 253,\n",
              "        253, 198, 182, 247, 241,   0,   0,   0,   0,   0,   0,   0,   0,\n",
              "          0,   0],\n",
              "       [  0,   0,   0,   0,   0,   0,   0,   0,  80, 156, 107, 253, 253,\n",
              "        205,  11,   0,  43, 154,   0,   0,   0,   0,   0,   0,   0,   0,\n",
              "          0,   0],\n",
              "       [  0,   0,   0,   0,   0,   0,   0,   0,   0,  14,   1, 154, 253,\n",
              "         90,   0,   0,   0,   0,   0,   0,   0,   0,   0,   0,   0,   0,\n",
              "          0,   0],\n",
              "       [  0,   0,   0,   0,   0,   0,   0,   0,   0,   0,   0, 139, 253,\n",
              "        190,   2,   0,   0,   0,   0,   0,   0,   0,   0,   0,   0,   0,\n",
              "          0,   0],\n",
              "       [  0,   0,   0,   0,   0,   0,   0,   0,   0,   0,   0,  11, 190,\n",
              "        253,  70,   0,   0,   0,   0,   0,   0,   0,   0,   0,   0,   0,\n",
              "          0,   0],\n",
              "       [  0,   0,   0,   0,   0,   0,   0,   0,   0,   0,   0,   0,  35,\n",
              "        241, 225, 160, 108,   1,   0,   0,   0,   0,   0,   0,   0,   0,\n",
              "          0,   0],\n",
              "       [  0,   0,   0,   0,   0,   0,   0,   0,   0,   0,   0,   0,   0,\n",
              "         81, 240, 253, 253, 119,  25,   0,   0,   0,   0,   0,   0,   0,\n",
              "          0,   0],\n",
              "       [  0,   0,   0,   0,   0,   0,   0,   0,   0,   0,   0,   0,   0,\n",
              "          0,  45, 186, 253, 253, 150,  27,   0,   0,   0,   0,   0,   0,\n",
              "          0,   0],\n",
              "       [  0,   0,   0,   0,   0,   0,   0,   0,   0,   0,   0,   0,   0,\n",
              "          0,   0,  16,  93, 252, 253, 187,   0,   0,   0,   0,   0,   0,\n",
              "          0,   0],\n",
              "       [  0,   0,   0,   0,   0,   0,   0,   0,   0,   0,   0,   0,   0,\n",
              "          0,   0,   0,   0, 249, 253, 249,  64,   0,   0,   0,   0,   0,\n",
              "          0,   0],\n",
              "       [  0,   0,   0,   0,   0,   0,   0,   0,   0,   0,   0,   0,   0,\n",
              "          0,  46, 130, 183, 253, 253, 207,   2,   0,   0,   0,   0,   0,\n",
              "          0,   0],\n",
              "       [  0,   0,   0,   0,   0,   0,   0,   0,   0,   0,   0,   0,  39,\n",
              "        148, 229, 253, 253, 253, 250, 182,   0,   0,   0,   0,   0,   0,\n",
              "          0,   0],\n",
              "       [  0,   0,   0,   0,   0,   0,   0,   0,   0,   0,  24, 114, 221,\n",
              "        253, 253, 253, 253, 201,  78,   0,   0,   0,   0,   0,   0,   0,\n",
              "          0,   0],\n",
              "       [  0,   0,   0,   0,   0,   0,   0,   0,  23,  66, 213, 253, 253,\n",
              "        253, 253, 198,  81,   2,   0,   0,   0,   0,   0,   0,   0,   0,\n",
              "          0,   0],\n",
              "       [  0,   0,   0,   0,   0,   0,  18, 171, 219, 253, 253, 253, 253,\n",
              "        195,  80,   9,   0,   0,   0,   0,   0,   0,   0,   0,   0,   0,\n",
              "          0,   0],\n",
              "       [  0,   0,   0,   0,  55, 172, 226, 253, 253, 253, 253, 244, 133,\n",
              "         11,   0,   0,   0,   0,   0,   0,   0,   0,   0,   0,   0,   0,\n",
              "          0,   0],\n",
              "       [  0,   0,   0,   0, 136, 253, 253, 253, 212, 135, 132,  16,   0,\n",
              "          0,   0,   0,   0,   0,   0,   0,   0,   0,   0,   0,   0,   0,\n",
              "          0,   0],\n",
              "       [  0,   0,   0,   0,   0,   0,   0,   0,   0,   0,   0,   0,   0,\n",
              "          0,   0,   0,   0,   0,   0,   0,   0,   0,   0,   0,   0,   0,\n",
              "          0,   0],\n",
              "       [  0,   0,   0,   0,   0,   0,   0,   0,   0,   0,   0,   0,   0,\n",
              "          0,   0,   0,   0,   0,   0,   0,   0,   0,   0,   0,   0,   0,\n",
              "          0,   0],\n",
              "       [  0,   0,   0,   0,   0,   0,   0,   0,   0,   0,   0,   0,   0,\n",
              "          0,   0,   0,   0,   0,   0,   0,   0,   0,   0,   0,   0,   0,\n",
              "          0,   0]], dtype=uint8)"
            ]
          },
          "execution_count": 10,
          "metadata": {},
          "output_type": "execute_result"
        }
      ],
      "source": [
        "sample = train_images[0]\n",
        "sample"
      ]
    },
    {
      "cell_type": "code",
      "execution_count": null,
      "id": "1ff3d6e0",
      "metadata": {
        "id": "1ff3d6e0",
        "outputId": "5d5c90eb-71e5-4f3c-867b-aaa77e186fb0"
      },
      "outputs": [
        {
          "data": {
            "text/plain": [
              "<matplotlib.image.AxesImage at 0x28dd902fb50>"
            ]
          },
          "execution_count": 12,
          "metadata": {},
          "output_type": "execute_result"
        },
        {
          "data": {
            "image/png": "[encoded data removed]",
            "text/plain": [
              "<Figure size 432x288 with 1 Axes>"
            ]
          },
          "metadata": {
            "needs_background": "light"
          },
          "output_type": "display_data"
        }
      ],
      "source": [
        "import numpy as np\n",
        "import matplotlib.pyplot as plt\n",
        "%matplotlib inline\n",
        "\n",
        "plt.imshow(np.reshape(sample,[28,28]), interpolation=\"nearest\", cmap=\"gray\")"
      ]
    },
    {
      "cell_type": "code",
      "execution_count": null,
      "id": "aafabd04",
      "metadata": {
        "id": "aafabd04",
        "outputId": "8232ba96-0326-4108-f190-c22e2cf05b16"
      },
      "outputs": [
        {
          "data": {
            "text/plain": [
              "<matplotlib.image.AxesImage at 0x28dd95dffa0>"
            ]
          },
          "execution_count": 23,
          "metadata": {},
          "output_type": "execute_result"
        },
        {
          "data": {
            "image/png": "[encoded data removed]",
            "text/plain": [
              "<Figure size 432x288 with 1 Axes>"
            ]
          },
          "metadata": {
            "needs_background": "light"
          },
          "output_type": "display_data"
        }
      ],
      "source": [
        "#Filter2D\n",
        "#It combines an image with the kernel.\n",
        "\n",
        "import cv2 as cv\n",
        "\n",
        "\n",
        "kernel = np.ones((4,4),np.float32)/25\n",
        "new = cv.filter2D(sample,-1,kernel)\n",
        "plt.imshow(new, interpolation=\"nearest\", cmap=\"gray\")"
      ]
    },
    {
      "cell_type": "code",
      "source": [
        "import torch\n",
        "import torchvision.datasets as datasets\n",
        "\n",
        "train_images, train_labels = datasets.MNIST(root='./data', train=True, download=True)\n",
        "test_images, test_labels = datasets.MNIST(root='./data', train=False, download=True)"
      ],
      "metadata": {
        "id": "4DejQy6QZqPM"
      },
      "id": "4DejQy6QZqPM",
      "execution_count": null,
      "outputs": []
    },
    {
      "cell_type": "markdown",
      "source": [
        "The first line imports the torch and torchvision.datasets modules. The second line loads the MNIST training dataset, and the third line loads the MNIST test dataset. The root parameter specifies the directory where the data will be stored. The train parameter specifies whether to load the training dataset or the test dataset. The download parameter specifies whether to download the data if it is not already present in the root directory. The train_images and train_labels variables contain the training images and labels, respectively. The test_images and test_labels variables contain the test images and labels, respectively."
      ],
      "metadata": {
        "id": "ckhgeenyZsKP"
      },
      "id": "ckhgeenyZsKP"
    }
  ],
  "metadata": {
    "kernelspec": {
      "display_name": "Python 3 (ipykernel)",
      "language": "python",
      "name": "python3"
    },
    "language_info": {
      "codemirror_mode": {
        "name": "ipython",
        "version": 3
      },
      "file_extension": ".py",
      "mimetype": "text/x-python",
      "name": "python",
      "nbconvert_exporter": "python",
      "pygments_lexer": "ipython3",
      "version": "3.9.7"
    },
    "colab": {
      "provenance": []
    }
  },
  "nbformat": 4,
  "nbformat_minor": 5
}